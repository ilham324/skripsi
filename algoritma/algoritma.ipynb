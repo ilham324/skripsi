{
 "cells": [
  {
   "cell_type": "code",
   "execution_count": 9,
   "id": "00036dd4",
   "metadata": {},
   "outputs": [
    {
     "data": {
      "text/html": [
       "<div>\n",
       "<style scoped>\n",
       "    .dataframe tbody tr th:only-of-type {\n",
       "        vertical-align: middle;\n",
       "    }\n",
       "\n",
       "    .dataframe tbody tr th {\n",
       "        vertical-align: top;\n",
       "    }\n",
       "\n",
       "    .dataframe thead th {\n",
       "        text-align: right;\n",
       "    }\n",
       "</style>\n",
       "<table border=\"1\" class=\"dataframe\">\n",
       "  <thead>\n",
       "    <tr style=\"text-align: right;\">\n",
       "      <th></th>\n",
       "      <th>Usia</th>\n",
       "      <th>Jenis Kelamin</th>\n",
       "      <th>Keluhan</th>\n",
       "      <th>Diagnosa</th>\n",
       "      <th>Tanggal Kunjungan</th>\n",
       "    </tr>\n",
       "  </thead>\n",
       "  <tbody>\n",
       "    <tr>\n",
       "      <th>0</th>\n",
       "      <td>19</td>\n",
       "      <td>Laki-laki</td>\n",
       "      <td>Muntah</td>\n",
       "      <td>Gout</td>\n",
       "      <td>2024-11-08</td>\n",
       "    </tr>\n",
       "    <tr>\n",
       "      <th>1</th>\n",
       "      <td>25</td>\n",
       "      <td>Perempuan</td>\n",
       "      <td>Muntah</td>\n",
       "      <td>Gastroenteritis</td>\n",
       "      <td>2024-01-19</td>\n",
       "    </tr>\n",
       "    <tr>\n",
       "      <th>2</th>\n",
       "      <td>61</td>\n",
       "      <td>Laki-laki</td>\n",
       "      <td>Mual</td>\n",
       "      <td>Hernia Diskus</td>\n",
       "      <td>2024-04-11</td>\n",
       "    </tr>\n",
       "    <tr>\n",
       "      <th>3</th>\n",
       "      <td>53</td>\n",
       "      <td>Perempuan</td>\n",
       "      <td>Nyeri sendi</td>\n",
       "      <td>Hernia Diskus</td>\n",
       "      <td>2024-04-23</td>\n",
       "    </tr>\n",
       "    <tr>\n",
       "      <th>4</th>\n",
       "      <td>51</td>\n",
       "      <td>Laki-laki</td>\n",
       "      <td>Sakit tenggorokan</td>\n",
       "      <td>Gastroenteritis</td>\n",
       "      <td>2024-04-15</td>\n",
       "    </tr>\n",
       "  </tbody>\n",
       "</table>\n",
       "</div>"
      ],
      "text/plain": [
       "   Usia Jenis Kelamin            Keluhan         Diagnosa Tanggal Kunjungan\n",
       "0    19     Laki-laki             Muntah             Gout        2024-11-08\n",
       "1    25     Perempuan             Muntah  Gastroenteritis        2024-01-19\n",
       "2    61     Laki-laki               Mual    Hernia Diskus        2024-04-11\n",
       "3    53     Perempuan        Nyeri sendi    Hernia Diskus        2024-04-23\n",
       "4    51     Laki-laki  Sakit tenggorokan  Gastroenteritis        2024-04-15"
      ]
     },
     "execution_count": 9,
     "metadata": {},
     "output_type": "execute_result"
    }
   ],
   "source": [
    "# Import Library yang Diperlukan\n",
    "import pandas as pd\n",
    "import json\n",
    "from sklearn.model_selection import train_test_split\n",
    "from sklearn.preprocessing import LabelEncoder\n",
    "from sklearn.svm import SVC\n",
    "from sklearn.neural_network import MLPClassifier\n",
    "from sklearn.metrics import classification_report, accuracy_score\n",
    "\n",
    "# Memuat data dari file JSON menggunakan path absolut\n",
    "with open(r'C:\\Users\\Z10 Metal\\Downloads\\skripsi ilham\\dataset\\data.json', 'r') as file:\n",
    "    data = json.load(file)\n",
    "\n",
    "# Convert data menjadi DataFrame\n",
    "df = pd.DataFrame(data)\n",
    "\n",
    "# Menampilkan beberapa data untuk memastikan formatnya benar\n",
    "df.head()\n"
   ]
  },
  {
   "cell_type": "code",
   "execution_count": 21,
   "id": "8ae930f8",
   "metadata": {},
   "outputs": [
    {
     "data": {
      "text/html": [
       "<div>\n",
       "<style scoped>\n",
       "    .dataframe tbody tr th:only-of-type {\n",
       "        vertical-align: middle;\n",
       "    }\n",
       "\n",
       "    .dataframe tbody tr th {\n",
       "        vertical-align: top;\n",
       "    }\n",
       "\n",
       "    .dataframe thead th {\n",
       "        text-align: right;\n",
       "    }\n",
       "</style>\n",
       "<table border=\"1\" class=\"dataframe\">\n",
       "  <thead>\n",
       "    <tr style=\"text-align: right;\">\n",
       "      <th></th>\n",
       "      <th>Usia</th>\n",
       "      <th>Jenis Kelamin</th>\n",
       "      <th>Keluhan</th>\n",
       "      <th>Diagnosa</th>\n",
       "      <th>Tanggal Kunjungan</th>\n",
       "      <th>Keluhan_Feat</th>\n",
       "    </tr>\n",
       "  </thead>\n",
       "  <tbody>\n",
       "    <tr>\n",
       "      <th>0</th>\n",
       "      <td>19</td>\n",
       "      <td>0</td>\n",
       "      <td>Muntah</td>\n",
       "      <td>3</td>\n",
       "      <td>2024-11-08</td>\n",
       "      <td>6</td>\n",
       "    </tr>\n",
       "    <tr>\n",
       "      <th>1</th>\n",
       "      <td>25</td>\n",
       "      <td>1</td>\n",
       "      <td>Muntah</td>\n",
       "      <td>2</td>\n",
       "      <td>2024-01-19</td>\n",
       "      <td>6</td>\n",
       "    </tr>\n",
       "    <tr>\n",
       "      <th>2</th>\n",
       "      <td>61</td>\n",
       "      <td>0</td>\n",
       "      <td>Mual</td>\n",
       "      <td>4</td>\n",
       "      <td>2024-04-11</td>\n",
       "      <td>4</td>\n",
       "    </tr>\n",
       "    <tr>\n",
       "      <th>3</th>\n",
       "      <td>53</td>\n",
       "      <td>1</td>\n",
       "      <td>Nyeri sendi</td>\n",
       "      <td>4</td>\n",
       "      <td>2024-04-23</td>\n",
       "      <td>10</td>\n",
       "    </tr>\n",
       "    <tr>\n",
       "      <th>4</th>\n",
       "      <td>51</td>\n",
       "      <td>0</td>\n",
       "      <td>Sakit tenggorokan</td>\n",
       "      <td>2</td>\n",
       "      <td>2024-04-15</td>\n",
       "      <td>16</td>\n",
       "    </tr>\n",
       "  </tbody>\n",
       "</table>\n",
       "</div>"
      ],
      "text/plain": [
       "   Usia  Jenis Kelamin            Keluhan  Diagnosa Tanggal Kunjungan  \\\n",
       "0    19              0             Muntah         3        2024-11-08   \n",
       "1    25              1             Muntah         2        2024-01-19   \n",
       "2    61              0               Mual         4        2024-04-11   \n",
       "3    53              1        Nyeri sendi         4        2024-04-23   \n",
       "4    51              0  Sakit tenggorokan         2        2024-04-15   \n",
       "\n",
       "   Keluhan_Feat  \n",
       "0             6  \n",
       "1             6  \n",
       "2             4  \n",
       "3            10  \n",
       "4            16  "
      ]
     },
     "execution_count": 21,
     "metadata": {},
     "output_type": "execute_result"
    }
   ],
   "source": [
    "# Preprocessing: Encoding categorical data\n",
    "label_encoder = LabelEncoder()\n",
    "\n",
    "# Encode 'Jenis Kelamin' dan 'Diagnosa' ke dalam angka\n",
    "df['Jenis Kelamin'] = label_encoder.fit_transform(df['Jenis Kelamin'])\n",
    "df['Diagnosa'] = label_encoder.fit_transform(df['Diagnosa'])\n",
    "\n",
    "# Encode 'Keluhan' dengan feature ekstraksi panjang kata\n",
    "keluhan_encoded = df['Keluhan'].apply(lambda x: x.split() if isinstance(x, str) else [])\n",
    "keluhan_encoded = keluhan_encoded.apply(lambda x: [len(word) for word in x])\n",
    "keluhan_features = keluhan_encoded.apply(lambda x: sum(x) if isinstance(x, list) else 0)\n",
    "\n",
    "# Tambahkan fitur ke DataFrame\n",
    "df['Keluhan_Feat'] = keluhan_features\n",
    "\n",
    "# Simpan hasil preprocessing ke CSV\n",
    "df.to_csv(r'C:\\Users\\Z10 Metal\\Downloads\\skripsi ilham\\dataset\\data_preprocessed.csv', index=False)\n",
    "\n",
    "# Tampilkan 5 data teratas\n",
    "df.head()"
   ]
  },
  {
   "cell_type": "code",
   "execution_count": 11,
   "id": "d73c5507",
   "metadata": {},
   "outputs": [],
   "source": [
    "# Fitur dan Target variable\n",
    "X = df[['Usia', 'Jenis Kelamin', 'Keluhan_Feat']]\n",
    "y = df['Diagnosa']\n",
    "\n",
    "# Membagi data menjadi train dan test\n",
    "X_train, X_test, y_train, y_test = train_test_split(X, y, test_size=0.2, random_state=42)\n"
   ]
  },
  {
   "cell_type": "code",
   "execution_count": 12,
   "id": "948a0d77",
   "metadata": {},
   "outputs": [
    {
     "name": "stdout",
     "output_type": "stream",
     "text": [
      "SVM Accuracy:  0.03333333333333333\n",
      "SVM Classification Report:\n",
      "               precision    recall  f1-score   support\n",
      "\n",
      "           0       0.04      0.20      0.07         5\n",
      "           1       0.00      0.00      0.00         4\n",
      "           2       0.07      0.12      0.09         8\n",
      "           3       0.00      0.00      0.00         6\n",
      "           4       0.00      0.00      0.00         5\n",
      "           5       0.00      0.00      0.00         7\n",
      "           6       0.00      0.00      0.00         3\n",
      "           7       0.00      0.00      0.00         7\n",
      "           8       0.00      0.00      0.00         9\n",
      "           9       0.00      0.00      0.00         6\n",
      "\n",
      "    accuracy                           0.03        60\n",
      "   macro avg       0.01      0.03      0.02        60\n",
      "weighted avg       0.01      0.03      0.02        60\n",
      "\n"
     ]
    },
    {
     "name": "stderr",
     "output_type": "stream",
     "text": [
      "c:\\Users\\Z10 Metal\\AppData\\Local\\Programs\\Python\\Python312\\Lib\\site-packages\\sklearn\\metrics\\_classification.py:1565: UndefinedMetricWarning: Precision is ill-defined and being set to 0.0 in labels with no predicted samples. Use `zero_division` parameter to control this behavior.\n",
      "  _warn_prf(average, modifier, f\"{metric.capitalize()} is\", len(result))\n",
      "c:\\Users\\Z10 Metal\\AppData\\Local\\Programs\\Python\\Python312\\Lib\\site-packages\\sklearn\\metrics\\_classification.py:1565: UndefinedMetricWarning: Precision is ill-defined and being set to 0.0 in labels with no predicted samples. Use `zero_division` parameter to control this behavior.\n",
      "  _warn_prf(average, modifier, f\"{metric.capitalize()} is\", len(result))\n",
      "c:\\Users\\Z10 Metal\\AppData\\Local\\Programs\\Python\\Python312\\Lib\\site-packages\\sklearn\\metrics\\_classification.py:1565: UndefinedMetricWarning: Precision is ill-defined and being set to 0.0 in labels with no predicted samples. Use `zero_division` parameter to control this behavior.\n",
      "  _warn_prf(average, modifier, f\"{metric.capitalize()} is\", len(result))\n"
     ]
    }
   ],
   "source": [
    "# Membangun dan melatih model SVM\n",
    "svm_model = SVC(kernel='linear')\n",
    "svm_model.fit(X_train, y_train)\n",
    "\n",
    "# Prediksi dan evaluasi model SVM\n",
    "svm_pred = svm_model.predict(X_test)\n",
    "\n",
    "# Menampilkan hasil evaluasi\n",
    "print(\"SVM Accuracy: \", accuracy_score(y_test, svm_pred))\n",
    "print(\"SVM Classification Report:\\n\", classification_report(y_test, svm_pred))\n"
   ]
  },
  {
   "cell_type": "code",
   "execution_count": 13,
   "id": "03b169ca",
   "metadata": {},
   "outputs": [
    {
     "name": "stdout",
     "output_type": "stream",
     "text": [
      "MLP Accuracy:  0.1\n",
      "MLP Classification Report:\n",
      "               precision    recall  f1-score   support\n",
      "\n",
      "           0       0.06      0.20      0.09         5\n",
      "           1       0.00      0.00      0.00         4\n",
      "           2       0.15      0.50      0.23         8\n",
      "           3       0.14      0.17      0.15         6\n",
      "           4       0.00      0.00      0.00         5\n",
      "           5       0.00      0.00      0.00         7\n",
      "           6       0.00      0.00      0.00         3\n",
      "           7       0.00      0.00      0.00         7\n",
      "           8       0.00      0.00      0.00         9\n",
      "           9       0.00      0.00      0.00         6\n",
      "\n",
      "    accuracy                           0.10        60\n",
      "   macro avg       0.03      0.09      0.05        60\n",
      "weighted avg       0.04      0.10      0.05        60\n",
      "\n"
     ]
    },
    {
     "name": "stderr",
     "output_type": "stream",
     "text": [
      "c:\\Users\\Z10 Metal\\AppData\\Local\\Programs\\Python\\Python312\\Lib\\site-packages\\sklearn\\metrics\\_classification.py:1565: UndefinedMetricWarning: Precision is ill-defined and being set to 0.0 in labels with no predicted samples. Use `zero_division` parameter to control this behavior.\n",
      "  _warn_prf(average, modifier, f\"{metric.capitalize()} is\", len(result))\n",
      "c:\\Users\\Z10 Metal\\AppData\\Local\\Programs\\Python\\Python312\\Lib\\site-packages\\sklearn\\metrics\\_classification.py:1565: UndefinedMetricWarning: Precision is ill-defined and being set to 0.0 in labels with no predicted samples. Use `zero_division` parameter to control this behavior.\n",
      "  _warn_prf(average, modifier, f\"{metric.capitalize()} is\", len(result))\n",
      "c:\\Users\\Z10 Metal\\AppData\\Local\\Programs\\Python\\Python312\\Lib\\site-packages\\sklearn\\metrics\\_classification.py:1565: UndefinedMetricWarning: Precision is ill-defined and being set to 0.0 in labels with no predicted samples. Use `zero_division` parameter to control this behavior.\n",
      "  _warn_prf(average, modifier, f\"{metric.capitalize()} is\", len(result))\n"
     ]
    }
   ],
   "source": [
    "# Membangun dan melatih model MLP\n",
    "mlp_model = MLPClassifier(hidden_layer_sizes=(5,), max_iter=1000)\n",
    "mlp_model.fit(X_train, y_train)\n",
    "\n",
    "# Prediksi dan evaluasi model MLP\n",
    "mlp_pred = mlp_model.predict(X_test)\n",
    "\n",
    "# Menampilkan hasil evaluasi\n",
    "print(\"MLP Accuracy: \", accuracy_score(y_test, mlp_pred))\n",
    "print(\"MLP Classification Report:\\n\", classification_report(y_test, mlp_pred))\n"
   ]
  },
  {
   "cell_type": "code",
   "execution_count": 14,
   "id": "f741fe02",
   "metadata": {},
   "outputs": [
    {
     "name": "stdout",
     "output_type": "stream",
     "text": [
      "Evaluasi Model SVM dan MLP\n",
      "Akurasi SVM: 3.33%\n",
      "Akurasi MLP: 10.00%\n"
     ]
    }
   ],
   "source": [
    "# Evaluasi dan komparasi antara kedua model\n",
    "print(\"Evaluasi Model SVM dan MLP\")\n",
    "\n",
    "# Akurasi model SVM\n",
    "svm_accuracy = accuracy_score(y_test, svm_pred)\n",
    "print(f\"Akurasi SVM: {svm_accuracy * 100:.2f}%\")\n",
    "\n",
    "# Akurasi model MLP\n",
    "mlp_accuracy = accuracy_score(y_test, mlp_pred)\n",
    "print(f\"Akurasi MLP: {mlp_accuracy * 100:.2f}%\")\n"
   ]
  },
  {
   "cell_type": "code",
   "execution_count": 19,
   "id": "72b147ce",
   "metadata": {},
   "outputs": [
    {
     "data": {
      "image/png": "[encoded data removed]",
      "text/plain": [
       "<Figure size 700x500 with 1 Axes>"
      ]
     },
     "metadata": {},
     "output_type": "display_data"
    }
   ],
   "source": [
    "import matplotlib.pyplot as plt\n",
    "\n",
    "# Data akurasi\n",
    "models = ['SVM', 'MLP']\n",
    "accuracies = [svm_accuracy * 100, mlp_accuracy * 100]\n",
    "\n",
    "# Buat grafik batang\n",
    "plt.figure(figsize=(7, 5))\n",
    "bars = plt.bar(models, accuracies, color=['skyblue', 'salmon'])\n",
    "\n",
    "# Tambahkan nilai di atas batang\n",
    "for bar in bars:\n",
    "    yval = bar.get_height()\n",
    "    plt.text(bar.get_x() + bar.get_width()/2, yval + 1, f'{yval:.2f}%', ha='center', va='bottom')\n",
    "\n",
    "# Label dan judul\n",
    "plt.title('Perbandingan Akurasi Model SVM dan MLP')\n",
    "plt.ylabel('Akurasi (%)')\n",
    "plt.ylim(0, 110)\n",
    "plt.grid(axis='y', linestyle='--', alpha=0.7)\n",
    "\n",
    "# Tampilkan grafik\n",
    "plt.show()\n"
   ]
  }
 ],
 "metadata": {
  "kernelspec": {
   "display_name": "Python 3",
   "language": "python",
   "name": "python3"
  },
  "language_info": {
   "codemirror_mode": {
    "name": "ipython",
    "version": 3
   },
   "file_extension": ".py",
   "mimetype": "text/x-python",
   "name": "python",
   "nbconvert_exporter": "python",
   "pygments_lexer": "ipython3",
   "version": "3.12.3"
  }
 },
 "nbformat": 4,
 "nbformat_minor": 5
}
